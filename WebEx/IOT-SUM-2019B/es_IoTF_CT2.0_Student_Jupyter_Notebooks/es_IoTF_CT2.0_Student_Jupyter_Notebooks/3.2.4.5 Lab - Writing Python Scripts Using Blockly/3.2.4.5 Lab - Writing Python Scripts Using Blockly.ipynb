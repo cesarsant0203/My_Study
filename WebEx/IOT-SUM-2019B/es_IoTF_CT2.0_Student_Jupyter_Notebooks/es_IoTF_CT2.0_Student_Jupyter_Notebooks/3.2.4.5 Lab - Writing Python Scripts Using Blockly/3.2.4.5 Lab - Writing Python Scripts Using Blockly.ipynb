{
 "cells": [
  {
   "cell_type": "markdown",
   "metadata": {},
   "source": [
    "![Cisco Networking Academy](images/cisco.png)"
   ]
  },
  {
   "cell_type": "markdown",
   "metadata": {},
   "source": [
    "# Práctica de laboratorio: cómo escribir scripts de Python mediante Blockly  \n",
    "\n",
    "\n",
    "![Topología](images/topology.png)\n",
    "\n",
    "### Objetivos\n",
    " * Acceder a los materiales oficiales del curso desde PL-App\n",
    " * Crear una nueva aplicación de programación visual\n",
    " * Crear un script de Python mediante Blockly\n",
    "\n",
    "### Antecedentes / Escenario\n",
    "La sintaxis de programación puede llegar a interponerse en el camino de la lógica. Blockly proporciona una forma gráfica para que los programas se desarrollen sin tener que preocuparse de los detalles de un idioma en particular.\n",
    "\n",
    "### Recursos necesarios\n",
    " * Computadora con acceso a Internet\n",
    " * Conexión basada en Ethernet a Internet con DHCP y sin filtro de tráfico\n",
    " * Raspberry Pi con configuración e imagen para acceso de PL-App"
   ]
  },
  {
   "cell_type": "markdown",
   "metadata": {},
   "source": [
    "## Tarea 1: Aprenda Blockly\n",
    "\n",
    "### Paso 1\tCree una celda de programación visual (Blockly).\n",
    " **a.**\tIngrese la celda de código a continuación y transfórmela de una celda de código de Python predeterminada a una celda de programación visual haciendo clic en el **ícono de Blockly** en la barra de herramientas.\n",
    "![Barra de herramientas Chestnut con Blockly](images/chestnut_toolbar_blockly.png)"
   ]
  },
  {
   "cell_type": "code",
   "execution_count": null,
   "metadata": {
    "collapsed": true
   },
   "outputs": [],
   "source": [
    "# turn this cell into a Visual Programming cell by clicking on the Blockly icon in the toolbar\n"
   ]
  },
  {
   "cell_type": "markdown",
   "metadata": {},
   "source": [
    "### Paso 3:\tCree un programa mediante Blockly\n",
    "\n",
    " 1.\tLa celda de código ahora admite la programación visual mediante Blockly. Agregue un nuevo bloque **Print** y un bloque **Text** al lienzo del menú \"Program->Text\".\n",
    "![Interfaz de Blockly](images/blockly1.png)\n",
    " \n",
    " 2. Conecte el bloque **Text** al bloque **Print**. Agregue al bloque **Text** el siguiente texto: `Este programa ordenará dos palabras alfabéticamente`.\n",
    "![Texto de impresión de Blockly](images/blockly2.png)\n",
    "\n",
    " 3. Seleccione Programa > Variables > set item para bloquear.\n",
    "![blockly_set_item](images/blockly_set_item.png)\n",
    "\n",
    " 4. Coloque el bloque debajo de Imprimir en el bloqueo de la pantalla.\n",
    "![blockly3](images/blockly3.png)\n",
    "\n",
    " 5. Desde el menú \"Program->Text\", seleccione y suelte en el lienzo el bloque **prompt for text with message** y conéctelo al bloque **set item** existente. Actualice la parte del texto del bloque **prompt for text with message** a `¿Cuál es la primera palabra?`\n",
    "![blockly_prompt](images/blockly_prompt.png)\n",
    "\n",
    " 6. Cambie el nombre de variable configurado a `Word1`.\n",
    "![blockly_rename_item](images/blockly_rename_item.png)\n",
    "\n",
    " 7. Haga clic con el botón secundario en el área roja del conjunto para bloquear y seleccione Duplicar. Vuelva a colocar el nuevo bloque directamente debajo del conjunto para bloquear anterior. \n",
    "![blockly_duplicate](images/blockly_duplicate.png)\n",
    " \n",
    " 8. Use la flecha junto a `Word1`en el conjunto inferior para bloquear, seleccione `Nueva variable…` y escriba `Word2` como el nuevo nombre de la variable. \n",
    " \n",
    " *Nota: Si usa la opción Renombrar variable… cambiará la variable en ambos conjuntos de bloques a Word2,  como se muestra a continuación. Esto no es lo que se busca.*\n",
    " ![blockly_rename2](images/blockly_rename2.png)\n",
    " \n",
    " 9. Seleccione el bloque Programa > Lógica > if-do e insértelo debajo de los tres bloques anteriores. \n",
    "\n",
    " 10. Seleccione el bloque Programa > Lógica > equal y adjúntelo al bloque if-do.\n",
    "![blockly_if_equal](images/blockly_if_equal.png)\n",
    "\n",
    " 11. Seleccione Programa > Variables > Word1 e insértelo en la ubicación de la primera variable en el bloque equal. Seleccione Programa > Variables > Word2 e insértelo en la ubicación de la segunda variable en el bloque equal. \n",
    "![blockly_variables](images/blockly_variables.png)\n",
    "\n",
    " 12. Cambie el símbolo igual por el símbolo menos. \n",
    "![blockly_if_cont](images/blockly_if_cont.png)\n",
    "\n",
    " 13. Agregue dos bloques **Print** del lienzo del menú \"Program->Text\" al bloque **if**.\n",
    "![blockly_prints](images/blockly_prints.png)\n",
    "\n",
    " 14. Agregue las variables **Word1** y **Word2** a los bloques **Print**.\n",
    "![blockly_prints_variables](images/blockly_prints_variables.png)\n",
    "\n",
    " 15. Seleccione otra declaración por medio del uso de la estrella ubicada en la parte superior del bloque «if» y arrástrela hacia la derecha, hacia el icono «if".\n",
    "![blockly_if_else](images/blockly_if_else.png)\n",
    "\n",
    " 16. Duplique Imprimir en las declaraciones de las pantallas por medio del botón secundario del mouse y colóquelas en otra área, en el orden inverso.\n",
    " 17. El proyecto en competencia debería parecerse al programa que se ilustra a continuación. Si no es así, realice los cambios correspondientes.\n",
    "![blockly_complete](images/blockly_complete.png)\n",
    "\n",
    " 18. Examine el código fuente de Python con el código generado a la derecha de la pantalla.\n",
    "![blockly_code](images/blockly_code.png)"
   ]
  },
  {
   "cell_type": "markdown",
   "metadata": {},
   "source": [
    "### Paso 4:\tEjecute la aplicación.\n",
    " 1.\tEn la celda de código, haga clic en el botón **Reproducir** en la esquina superior izquierda de la celda. El código de Python se ejecutará en Raspberry Pi con la entrada y salida administradas a través de esta página del bloc de notas.\n",
    "![Botón Reproducir](images/playButton.png)"
   ]
  },
  {
   "cell_type": "markdown",
   "metadata": {},
   "source": [
    "## Reflexión\n",
    "¿Cuál sería el resultado si el símbolo «menor que» se modificara por el símbolo «mayor que» en el programa WordSorter?\n"
   ]
  },
  {
   "cell_type": "markdown",
   "metadata": {
    "collapsed": true
   },
   "source": [
    "###### © 2017 Cisco y sus filiales. Todos los derechos reservados. Este documento es información pública de Cisco."
   ]
  }
 ],
 "metadata": {
  "anaconda-cloud": {},
  "kernelspec": {
   "display_name": "Python 3",
   "language": "python",
   "name": "python3"
  },
  "language_info": {
   "codemirror_mode": {
    "name": "ipython",
    "version": 3
   },
   "file_extension": ".py",
   "mimetype": "text/x-python",
   "name": "python",
   "nbconvert_exporter": "python",
   "pygments_lexer": "ipython3",
   "version": "3.5.3"
  }
 },
 "nbformat": 4,
 "nbformat_minor": 1
}
