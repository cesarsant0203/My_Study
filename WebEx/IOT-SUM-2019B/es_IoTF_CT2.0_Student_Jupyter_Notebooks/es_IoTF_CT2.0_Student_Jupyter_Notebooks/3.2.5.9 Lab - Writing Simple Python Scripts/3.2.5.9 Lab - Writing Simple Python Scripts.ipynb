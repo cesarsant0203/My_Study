{
 "cells": [
  {
   "cell_type": "markdown",
   "metadata": {},
   "source": [
    "![Cisco Networking Academy](images/cisco.png)"
   ]
  },
  {
   "cell_type": "markdown",
   "metadata": {},
   "source": [
    "# Práctica de laboratorio: cómo escribir scripts simples de Python\n",
    "\n",
    "\n",
    "![Topología](images/topology.png)\n",
    "\n",
    "### Objetivos\n",
    " * Usar PL-App para acceder a Raspberry Pi\n",
    " * Crear una nueva aplicación de Python\n",
    " * Crear un juego simple mediante Python\n",
    "\n",
    "\n",
    "### Antecedentes \n",
    "Python es uno de los lenguajes más usados para desarrollar nuevas soluciones para prototipos rápidos. Puede usarse para crear aplicaciones web, aplicaciones de escritorio y más. Python también se usa ampliamente en ciencias de datos para analizar datos masivos.\n",
    "\n",
    "Python es un lenguaje de programación interpretado y no requiere compilación. Es independiente de la plataforma y puede ejecutarse en Linux, Windows, OsX y otros sistemas. Los programas de Python pueden escribirse con cualquier editor de texto y deben tener la extensión .py.\n",
    "\n",
    "Esta práctica de laboratorio proporciona una introducción básica a la programación con Python 2.7.x con PL-App\n",
    "\n",
    "### Recursos necesarios \n",
    " * Computadora con acceso a Internet\n",
    " * Raspberry Pi con cable de alimentación y una conexión de red cableada o inalámbrica\n",
    " * Raspberry Pi con configuración e imagen para acceso de PL-App"
   ]
  },
  {
   "cell_type": "markdown",
   "metadata": {},
   "source": [
    "## Parte 1: Cómo escribir scripts simples de Python en una notebook\n",
    "### Paso 1: Celda de código\n",
    " 1. Ingrese el siguiente código de ejemplo en la celda siguiente. Este código asigna valores numéricos a las variables x e y, y luego compara los dos números.\n",
    "\n",
    "*Nota: Preste especial atención en la indentación. En Python, los bloques específicos de código se identifican por la indentación. En este ejemplo, las funciones de “print” se ejecutan desde las afirmaciones “if”.*\n",
    "\n",
    "```python\n",
    "x = 1\n",
    "y = 2\n",
    "if (x > y):\n",
    "  print (\"x is bigger than y\")\n",
    "else:\n",
    "  print (\"y is bigger than x\")\n",
    "```"
   ]
  },
  {
   "cell_type": "code",
   "execution_count": null,
   "metadata": {
    "collapsed": true
   },
   "outputs": [],
   "source": [
    "# Write your code here...\n",
    "\n"
   ]
  },
  {
   "cell_type": "markdown",
   "metadata": {},
   "source": [
    "### Paso 2: Ejecute el código en la celda\n",
    " 1.\tEn la celda de código, haga clic en el botón **Reproducir** en la esquina superior izquierda de la celda. El código de Python se ejecutará en Raspberry Pi y la salida se mostrará aquí en la notebook.\n",
    "![Botón Reproducir](images/playButton.png)"
   ]
  },
  {
   "cell_type": "markdown",
   "metadata": {},
   "source": [
    "### Paso 3: Cree un juego simple mediante Python\n",
    " 1. En este paso, la tarea será crear una aplicación de Python llamada Adivine el número.\n",
    " 2. Ingrese las siguientes líneas de código en la célula de código a continuación. Preste especial atención a la indentación. La indentación del bloque posterior a la función “while” identifica las líneas que son parte de este ciclo de bucle. Las funciones “print” dentro de las instrucciones “if” también tienen indentación, lo que identifica los bloques de código que se ejecutan si la instrucción de “if” es verdadera.\n",
    "```python\n",
    "import random, math\n",
    "random.seed()\n",
    "x = math.floor(random.random()*1000)+1\n",
    "z = 0\n",
    "b = 0\n",
    "while x != z:\n",
    "     b=b+1\n",
    "     z = int(input(\"Guess My Number Between 1 and 1000: \"))\n",
    "     if z < x:\n",
    "          print(\"Higher!\")\n",
    "     if z > x:\n",
    "          print(\"Lower!\")\n",
    "print(\"Correct! \" + str(b) + \" tries.\")\n",
    "```\n",
    " 3. En la celda de código, haga clic en el botón Reproducir en la esquina superior izquierda de la celda. El código de Python se ejecutará en Raspberry Pi y la entrada y la salida se mostrarán aquí en la notebook.\n",
    " 4. Para detener el código, haga clic en el botón **Detener** para detener el programa."
   ]
  },
  {
   "cell_type": "code",
   "execution_count": null,
   "metadata": {
    "collapsed": true
   },
   "outputs": [],
   "source": [
    "# Write your code here...\n"
   ]
  },
  {
   "cell_type": "markdown",
   "metadata": {},
   "source": [
    "## Reflexión\n",
    " 1. ¿Cuál es la cantidad máxima de conjeturas requeridas para ganar al juego “Adivine el número” si comenzó en uno y contó en forma ascendente? ¿Cuál es la cantidad máxima de conjeturas requeridas si comenzó en 500 y dividió el rango de respuestas posibles a la mitad con cada conjetura?  \n",
    "\n",
    " 2. Intente implementar un código de trampa: un número mágico que, si se ingresa, revela el número secreto y continúa ejecutando la aplicación. Como se revelará el número secreto, ahora tiene una buena oportunidad de ganar el juego.  "
   ]
  },
  {
   "cell_type": "markdown",
   "metadata": {
    "collapsed": true
   },
   "source": [
    "###### © 2017 Cisco y sus afiliados. Todos los derechos reservados. Este documento es información pública de Cisco."
   ]
  }
 ],
 "metadata": {
  "anaconda-cloud": {},
  "kernelspec": {
   "display_name": "Python 3",
   "language": "python",
   "name": "python3"
  },
  "language_info": {
   "codemirror_mode": {
    "name": "ipython",
    "version": 3
   },
   "file_extension": ".py",
   "mimetype": "text/x-python",
   "name": "python",
   "nbconvert_exporter": "python",
   "pygments_lexer": "ipython3",
   "version": "3.5.3"
  }
 },
 "nbformat": 4,
 "nbformat_minor": 1
}
